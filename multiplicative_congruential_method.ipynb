{
 "cells": [
  {
   "cell_type": "code",
   "id": "initial_id",
   "metadata": {
    "collapsed": true,
    "ExecuteTime": {
     "end_time": "2024-10-10T17:47:34.493201Z",
     "start_time": "2024-10-10T17:47:34.429541Z"
    }
   },
   "source": [
    "import numpy as np\n",
    "from scipy.stats import norm\n",
    "\n",
    "#case1\n",
    "a_x0=8\n",
    "a_a=13\n",
    "a_m=16\n",
    "\n",
    "#case2\n",
    "b_x0=8\n",
    "b_a=11\n",
    "b_m=30\n",
    "\n",
    "#case3\n",
    "c_x0=7\n",
    "c_a=7\n",
    "c_m=16\n",
    "\n",
    "#case4\n",
    "d_x0=8\n",
    "d_a=7\n",
    "d_m=25\n",
    "\n",
    "vector_case1=[]\n",
    "vector_case2=[]\n",
    "vector_case3=[]\n",
    "vector_case4=[]\n",
    "\n",
    "value1=a_x0\n",
    "value2=b_x0\n",
    "value3=c_x0\n",
    "value4=d_x0"
   ],
   "outputs": [],
   "execution_count": 143
  },
  {
   "metadata": {},
   "cell_type": "markdown",
   "source": "Sequence generation for cases 1-2-3-4 and vector printing",
   "id": "6ad36ffbd5eb4dfb"
  },
  {
   "metadata": {
    "ExecuteTime": {
     "end_time": "2024-10-10T17:47:36.884673Z",
     "start_time": "2024-10-10T17:47:36.863981Z"
    }
   },
   "cell_type": "code",
   "source": [
    "for i in range(30):\n",
    "    #gererazione prossimo numero case 1\n",
    "    case1_new_value=(a_a * value1) % a_m\n",
    "    value1=case1_new_value\n",
    "    vector_case1.append(case1_new_value/a_m)\n",
    "\n",
    "    # gererazione prossimo numero case 2\n",
    "    case2_new_value = (b_a * value2) % b_m\n",
    "    value2 = case2_new_value\n",
    "    vector_case2.append(case2_new_value/b_m)\n",
    "\n",
    "    # gererazione prossimo numero case 3\n",
    "    case3_new_value = (c_a * value3) % c_m\n",
    "    value3 = case3_new_value\n",
    "    vector_case3.append(case3_new_value/c_m)\n",
    "\n",
    "    # gererazione prossimo numero case 4\n",
    "    case4_new_value = (d_a * value4) % d_m\n",
    "    value4 = case4_new_value\n",
    "    vector_case4.append(case4_new_value/d_m)\n",
    "\n",
    "\n",
    "print(vector_case1)\n",
    "print(vector_case2)\n",
    "print(vector_case3)\n",
    "print(vector_case4)"
   ],
   "id": "b95a52e45437fd3f",
   "outputs": [
    {
     "name": "stdout",
     "output_type": "stream",
     "text": [
      "[0.5, 0.5, 0.5, 0.5, 0.5, 0.5, 0.5, 0.5, 0.5, 0.5, 0.5, 0.5, 0.5, 0.5, 0.5, 0.5, 0.5, 0.5, 0.5, 0.5, 0.5, 0.5, 0.5, 0.5, 0.5, 0.5, 0.5, 0.5, 0.5, 0.5]\n",
      "[0.9333333333333333, 0.26666666666666666, 0.9333333333333333, 0.26666666666666666, 0.9333333333333333, 0.26666666666666666, 0.9333333333333333, 0.26666666666666666, 0.9333333333333333, 0.26666666666666666, 0.9333333333333333, 0.26666666666666666, 0.9333333333333333, 0.26666666666666666, 0.9333333333333333, 0.26666666666666666, 0.9333333333333333, 0.26666666666666666, 0.9333333333333333, 0.26666666666666666, 0.9333333333333333, 0.26666666666666666, 0.9333333333333333, 0.26666666666666666, 0.9333333333333333, 0.26666666666666666, 0.9333333333333333, 0.26666666666666666, 0.9333333333333333, 0.26666666666666666]\n",
      "[0.0625, 0.4375, 0.0625, 0.4375, 0.0625, 0.4375, 0.0625, 0.4375, 0.0625, 0.4375, 0.0625, 0.4375, 0.0625, 0.4375, 0.0625, 0.4375, 0.0625, 0.4375, 0.0625, 0.4375, 0.0625, 0.4375, 0.0625, 0.4375, 0.0625, 0.4375, 0.0625, 0.4375, 0.0625, 0.4375]\n",
      "[0.24, 0.68, 0.76, 0.32, 0.24, 0.68, 0.76, 0.32, 0.24, 0.68, 0.76, 0.32, 0.24, 0.68, 0.76, 0.32, 0.24, 0.68, 0.76, 0.32, 0.24, 0.68, 0.76, 0.32, 0.24, 0.68, 0.76, 0.32, 0.24, 0.68]\n"
     ]
    }
   ],
   "execution_count": 144
  },
  {
   "metadata": {},
   "cell_type": "markdown",
   "source": "Function for uniformity test, using kolmogorov smirnov test",
   "id": "25ae50d2355857d"
  },
  {
   "metadata": {
    "ExecuteTime": {
     "end_time": "2024-10-10T17:47:47.588073Z",
     "start_time": "2024-10-10T17:47:47.569017Z"
    }
   },
   "cell_type": "code",
   "source": [
    "\n",
    "def kolmogorov_smirnov_test(data):\n",
    "    # Step 1: vector sorting\n",
    "    N = len(data)\n",
    "    sorted_data = np.sort(data)\n",
    "\n",
    "    # Step 2: Calculate D+ and D-\n",
    "    D_plus = np.max([(i+1)/N - sorted_data[i] for i in range(N)])\n",
    "    D_minus = np.max([sorted_data[i] - i/N for i in range(N)])\n",
    "\n",
    "    # Step 3: Take the maximum between D+ and D-\n",
    "    D = max(D_plus, D_minus)\n",
    "\n",
    "    # Step 4: critical value calculation with alpha=0.05 and N=30\n",
    "    D_alpha = 1.36 / np.sqrt(N) \n",
    "\n",
    "    # Step 5: Compare D with D_alpha for final evaluation\n",
    "    if D > D_alpha:\n",
    "        result = \"Reject: Data do not come from a uniform distribution.\"\n",
    "    else:\n",
    "        result = \"Success: Data are consistent with a uniform distribution.\"\n",
    "\n",
    "    #return values\n",
    "    return D, D_alpha, result"
   ],
   "id": "e1b8d46ebc100277",
   "outputs": [],
   "execution_count": 145
  },
  {
   "metadata": {
    "ExecuteTime": {
     "end_time": "2024-10-10T17:48:07.107331Z",
     "start_time": "2024-10-10T17:48:07.081613Z"
    }
   },
   "cell_type": "code",
   "source": [
    "# Run the test for each normalized vector\n",
    "D1, D_alpha1, result1 = kolmogorov_smirnov_test(vector_case1)\n",
    "D2, D_alpha2, result2 = kolmogorov_smirnov_test(vector_case2)\n",
    "D3, D_alpha3, result3 = kolmogorov_smirnov_test(vector_case3)\n",
    "D4, D_alpha4, result4 = kolmogorov_smirnov_test(vector_case4)\n",
    "\n",
    "# Output of results\n",
    "print(f\"Case 1: D = {\"%.2f\" %D1}, D_alpha = {\"%.2f\" %D_alpha1}, Result: {result1}\")\n",
    "print(f\"Case 2: D = {\"%.2f\" %D2}, D_alpha = {\"%.2f\" %D_alpha2}, Result: {result2}\")\n",
    "print(f\"Case 3: D = {\"%.2f\" %D3}, D_alpha = {\"%.2f\" %D_alpha3}, Result: {result3}\")\n",
    "print(f\"Case 4: D = {\"%.2f\" %D4}, D_alpha = {\"%.2f\" %D_alpha4}, Result: {result4}\")"
   ],
   "id": "34bee37483f77822",
   "outputs": [
    {
     "name": "stdout",
     "output_type": "stream",
     "text": [
      "Case 1: D = 0.50, D_alpha = 0.25, Result: Reject: Data do not come from a uniform distribution.\n",
      "Case 2: D = 0.43, D_alpha = 0.25, Result: Reject: Data do not come from a uniform distribution.\n",
      "Case 3: D = 0.56, D_alpha = 0.25, Result: Reject: Data do not come from a uniform distribution.\n",
      "Case 4: D = 0.24, D_alpha = 0.25, Result: Success: Data are consistent with a uniform distribution.\n"
     ]
    }
   ],
   "execution_count": 146
  },
  {
   "metadata": {},
   "cell_type": "markdown",
   "source": "",
   "id": "113cd68df9f56a3b"
  },
  {
   "metadata": {},
   "cell_type": "markdown",
   "source": "Function for autocorrelation test, using schmidt_taylor",
   "id": "dccaf847a875b6a1"
  },
  {
   "metadata": {
    "ExecuteTime": {
     "end_time": "2024-10-10T21:21:16.654143Z",
     "start_time": "2024-10-10T21:21:16.632118Z"
    }
   },
   "cell_type": "code",
   "source": [
    "\n",
    "def autocorrelation_schmidt_taylor(data, i, k, alpha):\n",
    "    N = len(data)\n",
    "    \n",
    "    # Calculate the maximum number of pairs\n",
    "    M = (N - i - k) // k  \n",
    "  \n",
    "    somma=0\n",
    "    y=i+k-1\n",
    "    t=i-1\n",
    "    \n",
    "    # Calculate the autocorrelation estimate\n",
    "    for x in range((M + 1)):\n",
    "        somma+=data[t]*data[y]  \n",
    "        t=y\n",
    "        y=y+k\n",
    "    rho_hat2 = (somma / (M + 1)) - 0.25\n",
    "    print(somma)\n",
    "    print(\"rho_hat2: \"+ str(rho_hat2))\n",
    "    \n",
    "\n",
    "    # Calculate the standard deviation\n",
    "    sigma_rho_hat = np.sqrt((13 * M + 7) )/ (12 * (M + 1))\n",
    "    print(\"sigma :\"+ str(sigma_rho_hat))\n",
    "\n",
    "    # Calculate the Z0 statistic\n",
    "    Z0 = rho_hat2 / sigma_rho_hat\n",
    "    print(\"z0: \"+ str(Z0))\n",
    "\n",
    "    # Calculate the critical z value alpha/2 from the normal distribution\n",
    "    z_alpha_2 = norm.ppf(1 - alpha / 2)\n",
    "    print(\"critical z: \"+ str(z_alpha_2))\n",
    "\n",
    "    # Final evaluation\n",
    "    if -z_alpha_2 <= Z0 <= z_alpha_2:\n",
    "        print(f\"Estimated autocorrelation: {\"%.2f\" %rho_hat2}, Z0: {\"%.2f\" %Z0}, The null hypothesis of independence is not\"\n",
    "              f\" rejected.\")\n",
    "    else:\n",
    "        print(\n",
    "            f\"Estimated autocorrelation: {\"%.2f\" %rho_hat2}, Z0: {\"%.2f\" %Z0}, The null hypothesis is rejected: significant\"\n",
    "            f\" autocorrelation.\")\n"
   ],
   "id": "df9b29ff5801088a",
   "outputs": [],
   "execution_count": 196
  },
  {
   "metadata": {},
   "cell_type": "markdown",
   "source": "The function takes as parameters: i=1 i.e. it starts from the first element of the vector, k=1 i.e. the lag, it takes into consideration all the numbers of the vector (every number) and alpha",
   "id": "e1da654c10a5d0d"
  },
  {
   "metadata": {
    "ExecuteTime": {
     "end_time": "2024-10-10T21:31:03.265453Z",
     "start_time": "2024-10-10T21:31:03.240335Z"
    }
   },
   "cell_type": "code",
   "source": [
    "# Run the test \n",
    "autocorrelation_schmidt_taylor(vector_case1, i=1, k=1, alpha=0.05)\n",
    "autocorrelation_schmidt_taylor(vector_case2, i=1, k=1, alpha=0.05)\n",
    "autocorrelation_schmidt_taylor(vector_case3, i=1, k=1, alpha=0.05)\n",
    "autocorrelation_schmidt_taylor(vector_case4, i=1, k=1, alpha=0.05)"
   ],
   "id": "e497f37dc242e7c6",
   "outputs": [
    {
     "name": "stdout",
     "output_type": "stream",
     "text": [
      "7.25\n",
      "rho_hat2: 0.0\n",
      "sigma :0.05534873644901789\n",
      "z0: 0.0\n",
      "critical z: 1.959963984540054\n",
      "Estimated autocorrelation: 0.00, Z0: 0.00, The null hypothesis of independence is notrejected.\n",
      "7.2177777777777745\n",
      "rho_hat2: -0.0011111111111112293\n",
      "sigma :0.05534873644901789\n",
      "z0: -0.020074733090513847\n",
      "critical z: 1.959963984540054\n",
      "Estimated autocorrelation: -0.00, Z0: -0.02, The null hypothesis of independence is notrejected.\n",
      "0.79296875\n",
      "rho_hat2: -0.22265625\n",
      "sigma :0.05534873644901789\n",
      "z0: -4.022788310715824\n",
      "critical z: 1.959963984540054\n",
      "Estimated autocorrelation: -0.22, Z0: -4.02, The null hypothesis is rejected: significant autocorrelation.\n",
      "7.163200000000001\n",
      "rho_hat2: -0.00299310344827583\n",
      "sigma :0.05534873644901789\n",
      "z0: -0.054077177552784766\n",
      "critical z: 1.959963984540054\n",
      "Estimated autocorrelation: -0.00, Z0: -0.05, The null hypothesis of independence is notrejected.\n"
     ]
    }
   ],
   "execution_count": 198
  }
 ],
 "metadata": {
  "kernelspec": {
   "display_name": "Python 3",
   "language": "python",
   "name": "python3"
  },
  "language_info": {
   "codemirror_mode": {
    "name": "ipython",
    "version": 2
   },
   "file_extension": ".py",
   "mimetype": "text/x-python",
   "name": "python",
   "nbconvert_exporter": "python",
   "pygments_lexer": "ipython2",
   "version": "2.7.6"
  }
 },
 "nbformat": 4,
 "nbformat_minor": 5
}
